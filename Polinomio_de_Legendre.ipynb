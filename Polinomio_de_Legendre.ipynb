{
  "nbformat": 4,
  "nbformat_minor": 0,
  "metadata": {
    "colab": {
      "name": "Polinomio de Legendre",
      "version": "0.3.2",
      "provenance": [],
      "collapsed_sections": []
    },
    "kernelspec": {
      "name": "python2",
      "display_name": "Python 2"
    }
  },
  "cells": [
    {
      "metadata": {
        "id": "18pN-liVZO9l",
        "colab_type": "code",
        "colab": {
          "base_uri": "https://localhost:8080/",
          "height": 51
        },
        "outputId": "2f85f399-acf6-48de-9a02-cdef98bb3d99"
      },
      "cell_type": "code",
      "source": [
        "#Author:Angel Octavio Parada Flores\n",
        "#Polinomio de Legendre\n",
        "from sympy import *\n",
        "from fractions import Fraction\n",
        "\n",
        "x = Symbol('x')\n",
        "\n",
        "def f(n):\n",
        " u=1\n",
        " for i in range (1, n+1): \n",
        "   u=u*i\n",
        " return u\n",
        "\n",
        "def p1(n):\n",
        " return ((1*2**-n)*f(n)**-1)\n",
        "\n",
        "n=int(input('Grado del polinomio: '))\n",
        "\n",
        "b=diff(((x**2)-1)**n, x, n)\n",
        "d=p1(n)\n",
        "\n",
        "c=d*b\n",
        "\n",
        "print 'El polinomio de Legendre de grado', n, 'es: ', c\n",
        "\n",
        "\n",
        "\n",
        "\n",
        "\n",
        "\n"
      ],
      "execution_count": 1,
      "outputs": [
        {
          "output_type": "stream",
          "text": [
            "Grado del polinomio: 4\n",
            "El polinomio de Legendre de grado 4 es:  1.0*x**4 + 3.0*x**2*(x**2 - 1) + 0.375*(x**2 - 1)**2\n"
          ],
          "name": "stdout"
        }
      ]
    }
  ]
}