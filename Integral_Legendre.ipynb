{
  "nbformat": 4,
  "nbformat_minor": 0,
  "metadata": {
    "colab": {
      "name": "Integral - Legendre",
      "version": "0.3.2",
      "provenance": [],
      "collapsed_sections": []
    },
    "kernelspec": {
      "name": "python2",
      "display_name": "Python 2"
    }
  },
  "cells": [
    {
      "metadata": {
        "id": "8c4hrxn7wVXD",
        "colab_type": "code",
        "colab": {
          "base_uri": "https://localhost:8080/",
          "height": 86
        },
        "outputId": "d441cb49-dec6-4856-939d-00090fe425c0"
      },
      "cell_type": "code",
      "source": [
        "#Author:Angel Octavio Parada Flores\n",
        "#Polinomio de Legendre\n",
        "from sympy import *\n",
        "\n",
        "x = Symbol('x')\n",
        "\n",
        "def f(n):\n",
        " u=1\n",
        " for i in range (1, n+1): \n",
        "   u=u*i\n",
        " return u\n",
        "\n",
        "def p1(n, x):\n",
        " c=(1*2**-n)*f(n)**-1\n",
        " return c*diff(((x**2)-1)**n, x, n)\n",
        "\n",
        "n=int(input('Grado del polinomio: '))\n",
        "\n",
        "print ('El polinomio de Legendre de grado', n, 'es: ', p1(n, x))\n",
        "\n",
        "i=float(input('Valor de x: '))\n",
        "\n",
        "print('El valor del polinomio evaluado en', i, 'es', p1(n, x).subs(x, i))\n",
        "\n"
      ],
      "execution_count": 5,
      "outputs": [
        {
          "output_type": "stream",
          "text": [
            "Grado del polinomio: 2\n",
            "('El polinomio de Legendre de grado', 2, 'es: ', 1.5*x**2 - 0.5)\n",
            "Valor de x: 2\n",
            "('El valor del polinomio evaluado en', 2.0, 'es', 5.50000000000000)\n"
          ],
          "name": "stdout"
        }
      ]
    },
    {
      "metadata": {
        "id": "KamKOw622LJY",
        "colab_type": "code",
        "colab": {
          "base_uri": "https://localhost:8080/",
          "height": 52
        },
        "outputId": "212de793-a67d-4513-8b84-ffa89cc50a8c"
      },
      "cell_type": "code",
      "source": [
        "#Author:Angel Octavio Parada Flores\n",
        "#Fecha:14/09/18\n",
        "#Peso\n",
        "import numpy as np\n",
        "from sympy import *\n",
        "x = Symbol('x')\n",
        "\n",
        "def f(n):\n",
        " u=1\n",
        " for i in range (1, n+1): \n",
        "   u=u*i\n",
        " return u\n",
        "\n",
        "def w(n, x):\n",
        "  c=(1*2**-n)*f(n)**-1\n",
        "  d=c*diff(((x**2)-1)**n, x, n)\n",
        "  return 2/((1-x**2)*diff(d)**2)\n",
        "\n",
        "def polinomio(coeficientes, x):\n",
        " potencia=0\n",
        " funcion=0\n",
        " for i in coeficientes:\n",
        "  funcion=funcion+float(i)*x**potencia\n",
        "  potencia=potencia+1\n",
        " return funcion\n",
        "\n",
        "coeficientes = [0, 0, 2, 1]\n",
        "n=int(input('Grado del polinomio: '))\n",
        "v=np.arange(-0.57, 0.57, 0.001)\n",
        "sum=0\n",
        "for i in v:\n",
        "  sum=sum+(w(n, x).subs(x,i))*((polinomio(coeficientes, (0.57-0.1)*x/2).subs(x,i))+((0.1+0.57)/2))\n",
        "                            \n",
        "print(sum)                         \n",
        "\n"
      ],
      "execution_count": 24,
      "outputs": [
        {
          "output_type": "stream",
          "text": [
            "Grado del polinomio: 3\n",
            "1012718.11233129\n"
          ],
          "name": "stdout"
        }
      ]
    }
  ]
}